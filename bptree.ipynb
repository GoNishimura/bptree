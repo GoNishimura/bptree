{
 "cells": [
  {
   "cell_type": "code",
   "execution_count": 1,
   "metadata": {},
   "outputs": [],
   "source": [
    "import uuid\n",
    "import copy"
   ]
  },
  {
   "cell_type": "code",
   "execution_count": 2,
   "metadata": {},
   "outputs": [],
   "source": [
    "# max num of pointers in a leaf\n",
    "size = 4"
   ]
  },
  {
   "cell_type": "code",
   "execution_count": 3,
   "metadata": {},
   "outputs": [],
   "source": [
    "class Leaf:\n",
    "    def __init__(self, depth=0):\n",
    "        self.uid = uuid.uuid4()\n",
    "        self.depth = depth\n",
    "        self.node = [-1 for i in range(size+size-1)] # pointer, key, pointer, ...\n",
    "        self.parentId = copy.deepcopy(self.uid)\n",
    "        \n",
    "    def getKeys(self):\n",
    "        return [x for i, x in enumerate(self.node) if i % 2 == 1]        \n",
    "    \n",
    "    def getPointers(self):\n",
    "        return [x for i, x in enumerate(self.node) if i % 2 == 0]\n",
    "        \n",
    "    def getNextLeafId(self, key, parent_max_key):\n",
    "        bigger_keys = list(filter(lambda x: key < x, self.getKeys()))\n",
    "        if len(bigger_keys) >= 1:\n",
    "            return self.node[self.node.index(bigger_keys[0])-1]\n",
    "        else:\n",
    "            same_key = list(filter(lambda x: key == x, self.getKeys()))\n",
    "            if len(same_key) == 1:\n",
    "                return self.node[self.node.index(key)+1]\n",
    "            if key <= parent_max_key:\n",
    "                return self.node[self.node.index(max(self.getKeys()))+1]\n",
    "            # valid_pointers = list(filter(lambda x: x != -1, self.pointers))\n",
    "            valid_pointers = list(filter(lambda x: x != -1, self.getPointers()))\n",
    "#             print('vp:', valid_pointers)\n",
    "            if len(valid_pointers) == 0: return -1\n",
    "            return valid_pointers[-1]\n",
    "        \n",
    "    def showPointer(self, key):\n",
    "        # return self.node[2*self.getKeys().index(key)+1]\n",
    "        return self.getKeys().index(key)"
   ]
  },
  {
   "cell_type": "code",
   "execution_count": 4,
   "metadata": {},
   "outputs": [],
   "source": [
    "class Tree:\n",
    "    def __init__(self):\n",
    "        self.depth = 1\n",
    "        root = Leaf(self.depth)\n",
    "        self.rootId = root.uid\n",
    "        self.leaves = [root] # make different object\n",
    "        \n",
    "    def addLeaf(self, depth=0):\n",
    "        new_leaf = Leaf(depth)\n",
    "#         print('add leaf:', new_leaf.uid)\n",
    "        self.leaves.append(new_leaf)\n",
    "        return new_leaf\n",
    "        \n",
    "    def getLeaf(self, uid):\n",
    "        return list(filter(lambda l: l.uid == uid, self.leaves))[0]\n",
    "    \n",
    "    def leafFor(self, key):\n",
    "        pointer = self.rootId\n",
    "        cnt = 0\n",
    "        parent_max_key = float('inf')\n",
    "        if self.depth == 1: return self.getLeaf(self.rootId)\n",
    "        while cnt <= 2*self.depth-1:\n",
    "            cnt += 1\n",
    "            leaf = self.getLeaf(pointer)\n",
    "            next_pointer = self.getLeaf(pointer).getNextLeafId(key, parent_max_key)\n",
    "            parent_max_key = max(leaf.getKeys())\n",
    "            if type(next_pointer) != uuid.UUID: break\n",
    "            pointer = next_pointer\n",
    "#         for i in range(self.depth):\n",
    "#             if i < self.depth-1:\n",
    "#                 pointer = self.getLeaf(pointer).getNextLeafId(key)\n",
    "#                 print('pointer now:', pointer)\n",
    "#         print('leaf to:', pointer)\n",
    "        return self.getLeaf(pointer)\n",
    "    \n",
    "    def insertInLeaf(self, leaf, key, pointer, temp=False):\n",
    "#         print('node now:', leaf.node)\n",
    "        if leaf.getKeys()[0] == -1 and leaf.getPointers()[0] == -1:\n",
    "#             print('leaf initial -1')\n",
    "            leaf.node[1] = key\n",
    "            leaf.node[0] = pointer\n",
    "            return\n",
    "        elif key < leaf.getKeys()[0]:\n",
    "#             print('insert to initial:', key, '<', leaf.getKeys()[0])\n",
    "            first_pointer = leaf.node[0]\n",
    "            if ( type(first_pointer) == uuid.UUID and \n",
    "                    max(self.getLeaf(first_pointer).getKeys()) < key ):\n",
    "#                 print('skip first')\n",
    "                leaf.node.insert(1, key)\n",
    "                leaf.node.insert(2, pointer)\n",
    "            else:\n",
    "#                 print('simple first insert')\n",
    "                leaf.node.insert(0, pointer)\n",
    "                leaf.node.insert(1, key)\n",
    "            if not temp:\n",
    "                nulls = [i for i, x in enumerate(leaf.node) if x == -1]\n",
    "                if len(nulls) >= 2:\n",
    "                    null_index = leaf.node.index(-1)\n",
    "                    del leaf.node[null_index:null_index+2]\n",
    "                else: \n",
    "                    leaf.node = leaf.node[:-2]\n",
    "        else:\n",
    "#             print('key:', key)\n",
    "#             print(list(filter(lambda k: k <= key and k != -1, leaf.getKeys())))\n",
    "            key_before = list(filter(lambda k: k <= key and k != -1, leaf.getKeys()))[-1]\n",
    "            idx = 2*leaf.getKeys().index(key_before)+1\n",
    "#             print('kbi:', key, key_before, idx)\n",
    "            if idx+2 < 2*size-1 and leaf.node[idx+1] == -1 and leaf.node[idx+2] == -1:\n",
    "#                 print('simple replace')\n",
    "                leaf.node[idx+1] = pointer\n",
    "                leaf.node[idx+1+1] = key\n",
    "                return\n",
    "#             elif ( idx-1 != -1 and idx+1 != -1 and type(leaf.node[idx+1]) == uuid.UUID \n",
    "#                   and type(leaf.node[idx+2]) == uuid.UUID ):\n",
    "            elif ( idx+1 < len(leaf.node) and type(leaf.node[idx-1]) == uuid.UUID \n",
    "                  and type(leaf.node[idx+1]) == uuid.UUID ):\n",
    "#                 print('add last')\n",
    "                leaf.node.insert(idx+2, key)\n",
    "                leaf.node.insert(idx+3, pointer)\n",
    "            else:\n",
    "#                 print('insert last')\n",
    "                leaf.node.insert(idx+1, pointer)\n",
    "                leaf.node.insert(idx+1+1, key)\n",
    "            if not temp:\n",
    "                nulls = [i for i, x in enumerate(leaf.node) if x == -1]\n",
    "                if len(nulls) >= 2:\n",
    "                    null_index = leaf.node.index(-1)\n",
    "                    del leaf.node[null_index:null_index+2]\n",
    "                else: \n",
    "                    leaf.node = leaf.node[:-2]\n",
    "#         print('inst res:', leaf.getKeys())\n",
    "#         print('inst res:', leaf.getPointers())\n",
    "            \n",
    "    def insertInParent(self, leaf, key, pointer):\n",
    "        if leaf.uid == self.rootId:\n",
    "            self.depth += 1\n",
    "#             print('this is root')\n",
    "            new_root = self.addLeaf(self.depth)\n",
    "#             print('new root uid:', new_root.uid)\n",
    "            new_root.node[0] = leaf.uid\n",
    "            new_root.node[1] = key\n",
    "            new_root.node[2] = pointer\n",
    "            old_root = self.getLeaf(self.rootId)\n",
    "            old_root.parentId = new_root.uid\n",
    "            new_leaf = self.getLeaf(pointer)\n",
    "#             print('new leaf uid2:', new_leaf.uid)\n",
    "            new_leaf.parentId = new_root.uid\n",
    "            old_root.node[-1] = new_leaf.uid\n",
    "            self.rootId = new_root.uid\n",
    "        else:\n",
    "#             print('parent id:', leaf.parentId)\n",
    "            parent_leaf = self.getLeaf(leaf.parentId)\n",
    "            if len(list(filter(lambda x: x != -1, parent_leaf.getPointers()))) < size:\n",
    "#                 print('parent safe')\n",
    "                child_leaf = self.getLeaf(pointer)\n",
    "                child_leaf.parentId = parent_leaf.uid\n",
    "#                 print('parent keys:', parent_leaf.getKeys())\n",
    "#                 print('child keys:', child_leaf.getKeys())\n",
    "#                 print('parent pointers:', parent_leaf.getPointers())\n",
    "#                 print('child pointers:', child_leaf.getPointers())\n",
    "                self.insert(key, pointer, parent_leaf)\n",
    "            else:\n",
    "#                 print('parent full')\n",
    "                temp_parent = copy.deepcopy(parent_leaf) # make different object\n",
    "                # insert (K', N') ...\n",
    "                self.insertInLeaf(temp_parent, key, pointer, True)\n",
    "                # Erase all ...\n",
    "                parent_leaf.node = [-1 for i in range(size+size-1)]\n",
    "                #parent_leaf.node[-1] = temp_parent.node[-1]\n",
    "                # Create ...\n",
    "                new_parent = self.addLeaf(parent_leaf.depth)\n",
    "                new_parent.parentId = parent_leaf.parentId\n",
    "                leaf.parentId = new_parent.uid\n",
    "                self.getLeaf(pointer).parentId = new_parent.uid\n",
    "                # Copy T.P1, ...\n",
    "                # part = 2*((size-1+1)//2+1)\n",
    "                part = (2*size)//2+1\n",
    "                parent_leaf.node[:part] = temp_parent.node[:part]\n",
    "                # Let K'' ...\n",
    "                mid_key = temp_parent.node[part]\n",
    "#                 print('mid_key:', mid_key)\n",
    "                # Copy T.P[(n+1)/2]+1, ...\n",
    "                new_parent.node[:len(temp_parent.node[part+1:])] \\\n",
    "                    = temp_parent.node[part+1:]\n",
    "#                 print('am I root?', parent_leaf.uid == self.rootId)\n",
    "                self.insertInParent(parent_leaf, mid_key, new_parent.uid)\n",
    "                \n",
    "    def insert(self, key, pointer, _leaf=0):\n",
    "        if _leaf == 0:\n",
    "            leaf = self.leafFor(key)\n",
    "#             print('selected leaf:', leaf.uid)\n",
    "#             print('with keys:', leaf.getKeys())\n",
    "#             print('and pointers:', leaf.getPointers())\n",
    "        else: \n",
    "            leaf = _leaf\n",
    "        if len(list(filter(lambda x: x != -1, leaf.getKeys()))) < size-1:\n",
    "#             print('this leaf has space')\n",
    "            self.insertInLeaf(leaf, key, pointer)\n",
    "        else:\n",
    "            new_leaf = self.addLeaf(leaf.depth)\n",
    "            new_leaf.parentId = leaf.parentId\n",
    "#             print('to copy:', leaf.getKeys())\n",
    "            temp_leaf = copy.deepcopy(leaf) # make different object\n",
    "            temp_leaf.node = temp_leaf.node[:-1]\n",
    "            self.insertInLeaf(temp_leaf, key, pointer, True)\n",
    "#             print('temp keys:', temp_leaf.getKeys())\n",
    "#             print('temp pos:', temp_leaf.getPointers())\n",
    "            # Set L'.Pn = L.Pn\n",
    "            new_leaf.node[-1] = leaf.node[-1] \n",
    "            # Set L.Pn = L'\n",
    "#             print('new leaf uid:', new_leaf.uid)\n",
    "#             print('new leaf node:', new_leaf.node)\n",
    "            leaf.node[-1] = new_leaf.uid\n",
    "            # Erase ...\n",
    "            leaf.node[:-1] = [-1 for i in range(size+size-1-1)]\n",
    "#             print('after erased:', new_leaf.node)\n",
    "            # Copy T.P1, ...\n",
    "            # part = 2*((size-1)//2+1)+1\n",
    "            part = (2*size-1)//2+1\n",
    "            leaf.node[:part] = temp_leaf.node[:part]\n",
    "            # Copy T.P[n/2]+1, ...\n",
    "            new_leaf.node[:len(temp_leaf.node[part:])] = temp_leaf.node[part:]\n",
    "            min_key = new_leaf.node[1]\n",
    "#             print('min_key:', min_key)\n",
    "#             print('leaf keys:', leaf.getKeys())\n",
    "#             print('leaf pointers:', leaf.getPointers())\n",
    "#             print('new leaf keys:', new_leaf.getKeys())\n",
    "#             print('new leaf pointers:', new_leaf.getPointers())\n",
    "#             print('with root id:', self.rootId)\n",
    "            self.insertInParent(leaf, min_key, new_leaf.uid)"
   ]
  },
  {
   "cell_type": "code",
   "execution_count": 5,
   "metadata": {},
   "outputs": [],
   "source": [
    "tree = Tree()\n",
    "# data = [0]\n",
    "# data = [i for i in range(4)]\n",
    "# data = [i for i in range(6)]\n",
    "# data = [i for i in range(15)]\n",
    "# data = [3, 1, 0, 2]\n",
    "# data = [3, 1, 4, 0, 2]\n",
    "data = [5, 3, 1, 4, 0, 2]"
   ]
  },
  {
   "cell_type": "code",
   "execution_count": 6,
   "metadata": {},
   "outputs": [],
   "source": [
    "for i in range(len(data)):\n",
    "#     print('insert:', data[i])\n",
    "    tree.insert(data[i], i)\n",
    "#     print()"
   ]
  },
  {
   "cell_type": "code",
   "execution_count": 7,
   "metadata": {},
   "outputs": [
    {
     "name": "stdout",
     "output_type": "stream",
     "text": [
      "[2, 4, -1]\n",
      "[0, 1, -1]->[2, 3, -1]->[4, 5, -1]\n"
     ]
    }
   ],
   "source": [
    "for i in range(tree.depth, 0, -1):\n",
    "    leaves = list(filter(lambda x: x.depth == i, tree.leaves))\n",
    "    if len(leaves) == 1:\n",
    "        print(leaves[0].getKeys())\n",
    "    else:\n",
    "        sorted_leaves = sorted(leaves, key=lambda l: l.getKeys()[0])\n",
    "        to_print = []\n",
    "        for i, leaf in enumerate(sorted_leaves):\n",
    "            to_print.append(str(leaf.getKeys()))\n",
    "            if i == len(sorted_leaves)-1: break\n",
    "            # print(leaf.getPointers()[-1], sorted_leaves[i+1].uid)\n",
    "            if leaf.getPointers()[-1] == sorted_leaves[i+1].uid:\n",
    "                to_print.append('->')\n",
    "        print(''.join(to_print))"
   ]
  },
  {
   "cell_type": "code",
   "execution_count": 8,
   "metadata": {},
   "outputs": [
    {
     "name": "stdout",
     "output_type": "stream",
     "text": [
      "[0, 1, 2, 3, 4, 5]\n",
      "[5, 3, 1, 4, 0, 2]\n"
     ]
    }
   ],
   "source": [
    "to_print = []\n",
    "for i in data:\n",
    "    leaf = tree.leafFor(i)\n",
    "    to_print.append(leaf.getPointers()[leaf.showPointer(i)])\n",
    "\n",
    "print(to_print)\n",
    "print(data)"
   ]
  },
  {
   "cell_type": "code",
   "execution_count": 9,
   "metadata": {},
   "outputs": [
    {
     "name": "stdout",
     "output_type": "stream",
     "text": [
      "keys: [2, 4, -1]\n",
      "poi: [UUID('a6aece2f-b5da-4444-8b27-e4cbaaa20aca'), UUID('335d63cf-0e9b-43cc-881a-3f8a799c167c'), UUID('49218ce3-db71-4c51-a3cf-e2999d523658'), -1]\n",
      "uid: 24921413-2bf0-447b-a76f-e04f1a13ad0a\n",
      "pid: 24921413-2bf0-447b-a76f-e04f1a13ad0a\n",
      "rootId: 24921413-2bf0-447b-a76f-e04f1a13ad0a\n"
     ]
    }
   ],
   "source": [
    "# leaf = tree.leafFor(5)\n",
    "# leaf = tree.leaves[3]\n",
    "leaf = tree.getLeaf(tree.rootId)\n",
    "print('keys:', leaf.getKeys())\n",
    "print('poi:', leaf.getPointers())\n",
    "print('uid:', leaf.uid)\n",
    "print('pid:', leaf.parentId)\n",
    "print('rootId:', tree.rootId)"
   ]
  },
  {
   "cell_type": "code",
   "execution_count": null,
   "metadata": {},
   "outputs": [],
   "source": []
  },
  {
   "cell_type": "code",
   "execution_count": 10,
   "metadata": {},
   "outputs": [],
   "source": [
    "tree2 = Tree()\n",
    "# data = [0]\n",
    "# data = [i for i in range(4)]\n",
    "# data = [i for i in range(6)]\n",
    "data = [i for i in range(15)]\n",
    "# data = [3, 1, 0, 2]\n",
    "# data = [3, 1, 4, 0, 2]\n",
    "# data = [5, 3, 1, 4, 0, 2]"
   ]
  },
  {
   "cell_type": "code",
   "execution_count": 11,
   "metadata": {},
   "outputs": [],
   "source": [
    "for i in range(len(data)):\n",
    "#     print('insert:', data[i])\n",
    "    tree2.insert(data[i], i)\n",
    "#     print()"
   ]
  },
  {
   "cell_type": "code",
   "execution_count": 12,
   "metadata": {},
   "outputs": [
    {
     "name": "stdout",
     "output_type": "stream",
     "text": [
      "[6, -1, -1]\n",
      "[2, 4, -1]->[8, 10, 12]\n",
      "[0, 1, -1]->[2, 3, -1]->[4, 5, -1]->[6, 7, -1]->[8, 9, -1]->[10, 11, -1]->[12, 13, 14]\n"
     ]
    }
   ],
   "source": [
    "for i in range(tree2.depth, 0, -1):\n",
    "    leaves = list(filter(lambda x: x.depth == i, tree2.leaves))\n",
    "    if len(leaves) == 1:\n",
    "        print(leaves[0].getKeys())\n",
    "    else:\n",
    "        sorted_leaves = sorted(leaves, key=lambda l: l.getKeys()[0])\n",
    "        to_print = []\n",
    "        for i, leaf in enumerate(sorted_leaves):\n",
    "            to_print.append(str(leaf.getKeys()))\n",
    "            if i == len(sorted_leaves)-1: break\n",
    "            # print(leaf.getPointers()[-1], sorted_leaves[i+1].uid)\n",
    "            if leaf.getPointers()[-1] == sorted_leaves[i+1].uid:\n",
    "                to_print.append('->')\n",
    "        print(''.join(to_print))"
   ]
  },
  {
   "cell_type": "code",
   "execution_count": 13,
   "metadata": {},
   "outputs": [
    {
     "name": "stdout",
     "output_type": "stream",
     "text": [
      "[0, 1, 2, 3, 4, 5, 6, 7, 8, 9, 10, 11, 12, 13, 14]\n",
      "[0, 1, 2, 3, 4, 5, 6, 7, 8, 9, 10, 11, 12, 13, 14]\n"
     ]
    }
   ],
   "source": [
    "to_print = []\n",
    "for i in data:\n",
    "    leaf = tree2.leafFor(i)\n",
    "    to_print.append(leaf.getPointers()[leaf.showPointer(i)])\n",
    "\n",
    "print(to_print)\n",
    "print(data)"
   ]
  },
  {
   "cell_type": "code",
   "execution_count": 14,
   "metadata": {},
   "outputs": [
    {
     "name": "stdout",
     "output_type": "stream",
     "text": [
      "keys: [6, -1, -1]\n",
      "poi: [UUID('bbb8a4a4-7214-4321-87c5-a93dde7e6455'), UUID('62b8ac1b-8069-41d6-852f-751c51a602c5'), -1, -1]\n",
      "uid: abc21270-ff86-446a-94f7-e32ad2ce1c4c\n",
      "pid: abc21270-ff86-446a-94f7-e32ad2ce1c4c\n",
      "rootId: abc21270-ff86-446a-94f7-e32ad2ce1c4c\n"
     ]
    }
   ],
   "source": [
    "# leaf = tree2.leafFor(5)\n",
    "# leaf = tree2.leaves[3]\n",
    "leaf2 = tree2.getLeaf(tree2.rootId)\n",
    "print('keys:', leaf2.getKeys())\n",
    "print('poi:', leaf2.getPointers())\n",
    "print('uid:', leaf2.uid)\n",
    "print('pid:', leaf2.parentId)\n",
    "print('rootId:', tree2.rootId)"
   ]
  },
  {
   "cell_type": "code",
   "execution_count": null,
   "metadata": {},
   "outputs": [],
   "source": []
  }
 ],
 "metadata": {
  "kernelspec": {
   "display_name": "Python 3",
   "language": "python",
   "name": "python3"
  },
  "language_info": {
   "codemirror_mode": {
    "name": "ipython",
    "version": 3
   },
   "file_extension": ".py",
   "mimetype": "text/x-python",
   "name": "python",
   "nbconvert_exporter": "python",
   "pygments_lexer": "ipython3",
   "version": "3.6.10"
  }
 },
 "nbformat": 4,
 "nbformat_minor": 4
}
